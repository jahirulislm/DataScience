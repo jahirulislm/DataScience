{
 "cells": [
  {
   "cell_type": "markdown",
   "metadata": {},
   "source": [
    "## **`Rice Disease are classified using CNN with Tensorflow`**"
   ]
  },
  {
   "cell_type": "markdown",
   "metadata": {},
   "source": [
    "## Observations :\n",
    "\n",
    "1. We have 10207, images in train data.\n",
    "2. 10 unique disease classes.\n",
    "3. 10 Varietieses of Rice in ths data.\n",
    "4. Rice plantage ranging fro 45-85 days.\n",
    "5. ADT45 is the most common variety inside the trainging data "
   ]
  }
 ],
 "metadata": {
  "language_info": {
   "name": "python"
  }
 },
 "nbformat": 4,
 "nbformat_minor": 2
}
