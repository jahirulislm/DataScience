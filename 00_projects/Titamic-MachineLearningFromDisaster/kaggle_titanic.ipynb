{
 "cells": [
  {
   "cell_type": "markdown",
   "metadata": {},
   "source": [
    "## **kaggle Competition Notebook From TITANIC DATASET**\n",
    "\n",
    "- Author - Jahirul islam\n",
    "- Linkedin - url\n",
    "- Github - url\n",
    "- website profile - url\n",
    "- youtube - url if have."
   ]
  },
  {
   "cell_type": "markdown",
   "metadata": {},
   "source": [
    "# **Survival Rate Of Predicted By Neural Network in Tensorflow.**"
   ]
  },
  {
   "cell_type": "code",
   "execution_count": null,
   "metadata": {
    "vscode": {
     "languageId": "plaintext"
    }
   },
   "outputs": [],
   "source": [
    "# import libraries\n",
    "import pandas as pan\n",
    "import "
   ]
  }
 ],
 "metadata": {
  "language_info": {
   "name": "python"
  }
 },
 "nbformat": 4,
 "nbformat_minor": 2
}
