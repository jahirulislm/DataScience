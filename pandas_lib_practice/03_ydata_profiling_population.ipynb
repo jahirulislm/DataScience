{
 "cells": [
  {
   "cell_type": "markdown",
   "metadata": {},
   "source": [
    "# Automatic EDA using ydata_profiling"
   ]
  },
  {
   "cell_type": "code",
   "execution_count": 1,
   "metadata": {},
   "outputs": [
    {
     "name": "stderr",
     "output_type": "stream",
     "text": [
      "c:\\Users\\jahirul_islam\\miniconda3\\envs\\ydata_profiling\\lib\\site-packages\\tqdm\\auto.py:21: TqdmWarning: IProgress not found. Please update jupyter and ipywidgets. See https://ipywidgets.readthedocs.io/en/stable/user_install.html\n",
      "  from .autonotebook import tqdm as notebook_tqdm\n"
     ]
    }
   ],
   "source": [
    "\n",
    "import pandas as pd\n",
    "import seaborn as sns\n",
    "\n",
    "# https://docs.profiling.ydata.ai/4.6/\n",
    "import ydata_profiling as yd"
   ]
  },
  {
   "cell_type": "code",
   "execution_count": 2,
   "metadata": {},
   "outputs": [],
   "source": [
    "df = sns.load_dataset('titanic')"
   ]
  },
  {
   "cell_type": "code",
   "execution_count": 4,
   "metadata": {},
   "outputs": [
    {
     "name": "stderr",
     "output_type": "stream",
     "text": [
      "Summarize dataset: 100%|██████████| 41/41 [00:06<00:00,  6.34it/s, Completed]                    \n",
      "Generate report structure: 100%|██████████| 1/1 [00:06<00:00,  6.99s/it]\n",
      "Render HTML: 100%|██████████| 1/1 [00:01<00:00,  1.98s/it]\n",
      "Export report to file: 100%|██████████| 1/1 [00:00<00:00, 166.70it/s]\n"
     ]
    }
   ],
   "source": [
    "# ydata_profilng report\n",
    "profile = yd.ProfileReport(df)\n",
    "profile.to_file(output_file='ydata_titanic.html')"
   ]
  },
  {
   "cell_type": "code",
   "execution_count": 5,
   "metadata": {},
   "outputs": [],
   "source": [
    "df_pop = pd.read_csv('./data/sub-division_population_of_pakistan.csv')"
   ]
  },
  {
   "cell_type": "code",
   "execution_count": 6,
   "metadata": {},
   "outputs": [
    {
     "name": "stderr",
     "output_type": "stream",
     "text": [
      "Summarize dataset: 100%|██████████| 319/319 [01:01<00:00,  5.18it/s, Completed]                                                     \n",
      "Generate report structure: 100%|██████████| 1/1 [00:14<00:00, 14.73s/it]\n",
      "Render HTML: 100%|██████████| 1/1 [00:15<00:00, 15.22s/it]\n",
      "Export report to file: 100%|██████████| 1/1 [00:00<00:00,  9.20it/s]\n"
     ]
    }
   ],
   "source": [
    "profile = yd.ProfileReport(df_pop)\n",
    "profile.to_file(output_file='03B_pak_population.html')"
   ]
  },
  {
   "cell_type": "code",
   "execution_count": null,
   "metadata": {},
   "outputs": [],
   "source": []
  }
 ],
 "metadata": {
  "kernelspec": {
   "display_name": "Python 3",
   "language": "python",
   "name": "python3"
  },
  "language_info": {
   "codemirror_mode": {
    "name": "ipython",
    "version": 3
   },
   "file_extension": ".py",
   "mimetype": "text/x-python",
   "name": "python",
   "nbconvert_exporter": "python",
   "pygments_lexer": "ipython3",
   "version": "3.10.13"
  }
 },
 "nbformat": 4,
 "nbformat_minor": 2
}
