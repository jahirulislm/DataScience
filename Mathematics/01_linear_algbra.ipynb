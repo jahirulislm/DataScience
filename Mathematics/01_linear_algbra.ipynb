{
 "cells": [
  {
   "cell_type": "markdown",
   "metadata": {},
   "source": [
    "# linear Algebra in python"
   ]
  },
  {
   "cell_type": "code",
   "execution_count": 34,
   "metadata": {},
   "outputs": [],
   "source": [
    "import numpy as np"
   ]
  },
  {
   "cell_type": "code",
   "execution_count": 35,
   "metadata": {},
   "outputs": [
    {
     "data": {
      "text/plain": [
       "array([[2, 3],\n",
       "       [5, 4]])"
      ]
     },
     "execution_count": 35,
     "metadata": {},
     "output_type": "execute_result"
    }
   ],
   "source": [
    "# Coefficint matrix A\n",
    "A = np.array([[2,3],[5,4]]) # 2x2 matrix\n",
    "A"
   ]
  },
  {
   "cell_type": "code",
   "execution_count": 36,
   "metadata": {},
   "outputs": [
    {
     "data": {
      "text/plain": [
       "array([ 8, 20])"
      ]
     },
     "execution_count": 36,
     "metadata": {},
     "output_type": "execute_result"
    }
   ],
   "source": [
    "# constant mattrix B\n",
    "B = np.array([8,20]) # 1 dimension\n",
    "B"
   ]
  },
  {
   "cell_type": "code",
   "execution_count": 37,
   "metadata": {},
   "outputs": [
    {
     "data": {
      "text/plain": [
       "array([4., 0.])"
      ]
     },
     "execution_count": 37,
     "metadata": {},
     "output_type": "execute_result"
    }
   ],
   "source": [
    "# solve for x\n",
    "X = np.linalg.solve(A, B)\n",
    "X"
   ]
  },
  {
   "cell_type": "markdown",
   "metadata": {},
   "source": [
    "---"
   ]
  },
  {
   "cell_type": "markdown",
   "metadata": {},
   "source": [
    "# solving  complex Equations"
   ]
  },
  {
   "cell_type": "markdown",
   "metadata": {},
   "source": [
    "\n",
    "\\[\n",
    "    \\begin{align*}\n",
    "    (1+2i)x + (2-i)y &= 4+1 \\\\\n",
    "    (3-i)x + 4y &= 3+ 4i\n",
    "    \\end{align*}\n",
    "\\]"
   ]
  },
  {
   "cell_type": "code",
   "execution_count": 38,
   "metadata": {},
   "outputs": [
    {
     "data": {
      "text/plain": [
       "array([-0.11176471-0.45294118j,  0.94705882+1.31176471j])"
      ]
     },
     "execution_count": 38,
     "metadata": {},
     "output_type": "execute_result"
    }
   ],
   "source": [
    "# coefficints matrix A with complex num\n",
    "A_complex = np.array([[1+2j, 2-1j],[3-1j, 4]])\n",
    "A_complex\n",
    "# constants matrix B with complex num\n",
    "B_complex = np.array([4+1j, 3+4j])\n",
    "B_complex\n",
    "\n",
    "\n",
    "# solving for X in the complex case\n",
    "X_complex = np.linalg.solve(A_complex, B_complex)\n",
    "X_complex"
   ]
  },
  {
   "cell_type": "markdown",
   "metadata": {},
   "source": [
    "---\n",
    "# SVD in Python"
   ]
  },
  {
   "cell_type": "code",
   "execution_count": 39,
   "metadata": {},
   "outputs": [
    {
     "data": {
      "text/plain": [
       "array([[0.26658371, 0.4837699 , 0.60081634],\n",
       "       [0.89637962, 0.81340207, 0.87475388],\n",
       "       [0.32227227, 0.55759755, 0.41350181],\n",
       "       [0.49592021, 0.94139757, 0.11588794]])"
      ]
     },
     "execution_count": 39,
     "metadata": {},
     "output_type": "execute_result"
    }
   ],
   "source": [
    "# generate a matrix of 4x3 dataset\n",
    "x =np.random.rand(4,3)\n",
    "x"
   ]
  },
  {
   "cell_type": "code",
   "execution_count": 40,
   "metadata": {},
   "outputs": [
    {
     "name": "stdout",
     "output_type": "stream",
     "text": [
      "U matrix :  [[-0.37566414  0.33888011 -0.71468334  0.48297459]\n",
      " [-0.71239966  0.38647664  0.58443139  0.03952822]\n",
      " [-0.3678444  -0.01073805 -0.38401222 -0.84682337]\n",
      " [-0.46481574 -0.85771836 -0.01422302  0.21923333]]\n",
      "----------------\n",
      "Sigma matrix :  [2.06564391 0.55143798 0.23828561]\n",
      "----------------\n",
      "VT matrix :  [[-0.52660773 -0.67963694 -0.5106642 ]\n",
      " [ 0.01441549 -0.60775755  0.79399178]\n",
      " [ 0.84998617 -0.41076074 -0.32984712]]\n"
     ]
    }
   ],
   "source": [
    "# Apply svd\n",
    "U, Sigma, VT = np.linalg.svd(x)\n",
    "\n",
    "print(\"U matrix : \", U)\n",
    "print('----------------')\n",
    "print(\"Sigma matrix : \",Sigma)\n",
    "print('----------------')\n",
    "print(\"VT matrix : \",VT)"
   ]
  },
  {
   "cell_type": "code",
   "execution_count": 41,
   "metadata": {},
   "outputs": [
    {
     "data": {
      "text/plain": [
       "(4, 4)"
      ]
     },
     "execution_count": 41,
     "metadata": {},
     "output_type": "execute_result"
    }
   ],
   "source": [
    "U.shape"
   ]
  },
  {
   "cell_type": "code",
   "execution_count": 42,
   "metadata": {},
   "outputs": [
    {
     "data": {
      "text/plain": [
       "(3,)"
      ]
     },
     "execution_count": 42,
     "metadata": {},
     "output_type": "execute_result"
    }
   ],
   "source": [
    "Sigma.shape"
   ]
  },
  {
   "cell_type": "code",
   "execution_count": 43,
   "metadata": {},
   "outputs": [
    {
     "data": {
      "text/plain": [
       "(3, 3)"
      ]
     },
     "execution_count": 43,
     "metadata": {},
     "output_type": "execute_result"
    }
   ],
   "source": [
    "VT.shape"
   ]
  },
  {
   "cell_type": "markdown",
   "metadata": {},
   "source": [
    "---\n",
    "Vectors in python"
   ]
  },
  {
   "cell_type": "code",
   "execution_count": 44,
   "metadata": {},
   "outputs": [],
   "source": [
    "import numpy as np\n",
    "import matplotlib.pyplot as plt"
   ]
  },
  {
   "cell_type": "code",
   "execution_count": 45,
   "metadata": {},
   "outputs": [
    {
     "data": {
      "text/plain": [
       "array([2, 3])"
      ]
     },
     "execution_count": 45,
     "metadata": {},
     "output_type": "execute_result"
    }
   ],
   "source": [
    "# create a vector\n",
    "v = np.array([2,3])\n",
    "v"
   ]
  },
  {
   "cell_type": "code",
   "execution_count": 48,
   "metadata": {},
   "outputs": [
    {
     "data": {
      "image/png": "[encoded data removed]",
      "text/plain": [
       "<Figure size 640x480 with 1 Axes>"
      ]
     },
     "metadata": {},
     "output_type": "display_data"
    }
   ],
   "source": [
    "# plot a vector \n",
    "plt.figure()\n",
    "plt.quiver(0,0, v[0], v[1], angles= 'xy', scale_units='xy', scale=1, color='r')\n",
    "plt.xlim(0,5)\n",
    "plt.ylim(0,5)\n",
    "plt.grid()\n",
    "plt.title(\"2D vector\")\n",
    "plt.xlabel('x axis')\n",
    "plt.ylabel('y axis')\n",
    "plt.gca().set_aspect('equal', adjustable='box')\n",
    "plt.show()"
   ]
  },
  {
   "cell_type": "markdown",
   "metadata": {},
   "source": [
    "---\n",
    "## Linear Transoformation"
   ]
  },
  {
   "cell_type": "code",
   "execution_count": null,
   "metadata": {},
   "outputs": [],
   "source": []
  }
 ],
 "metadata": {
  "kernelspec": {
   "display_name": "Python 3",
   "language": "python",
   "name": "python3"
  },
  "language_info": {
   "codemirror_mode": {
    "name": "ipython",
    "version": 3
   },
   "file_extension": ".py",
   "mimetype": "text/x-python",
   "name": "python",
   "nbconvert_exporter": "python",
   "pygments_lexer": "ipython3",
   "version": "3.11.6"
  }
 },
 "nbformat": 4,
 "nbformat_minor": 2
}
