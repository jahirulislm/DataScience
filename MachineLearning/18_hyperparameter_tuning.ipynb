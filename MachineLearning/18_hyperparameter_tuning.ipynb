{
 "cells": [
  {
   "cell_type": "markdown",
   "metadata": {},
   "source": [
    "## Hyperparameter Tuning"
   ]
  },
  {
   "cell_type": "markdown",
   "metadata": {},
   "source": [
    "Hyperparameter tuning is the prcess of finding the best conbination of hyperparameter for a given model.\n",
    "\n",
    "### Types:\n",
    "\n",
    "* Grid Search: Exhaustive search over all possible conbinations of hyperparameter.\n",
    "* Random Search: Random sample conbination of hyperparameter from a given distribution.\n",
    "* Bayesian Optimization: Model the objective funstion and search for the maximum.\n",
    "* Gradient-based Optimization: use gradient descent fo find the minumum of the objective function."
   ]
  },
  {
   "cell_type": "markdown",
   "metadata": {},
   "source": [
    "## Cross Validation\n",
    "\n",
    "Cross validation is a technique used to evaluate the performance of a model on unseed data. It is used to check how well the model generalize to new data."
   ]
  },
  {
   "cell_type": "code",
   "execution_count": 3,
   "metadata": {},
   "outputs": [],
   "source": [
    "from sklearn.ensemble import RandomForestClassifier\n",
    "from sklearn.model_selection import train_test_split, GridSearchCV\n",
    "from sklearn.metrics import accuracy_score, confusion_matrix, class_likelihood_ratios"
   ]
  },
  {
   "cell_type": "code",
   "execution_count": 4,
   "metadata": {},
   "outputs": [],
   "source": [
    "# load the data\n",
    "from sklearn.datasets import load_iris\n",
    "\n",
    "iris = load_iris()\n",
    "X = iris.data\n",
    "y = iris.target"
   ]
  },
  {
   "cell_type": "code",
   "execution_count": 5,
   "metadata": {},
   "outputs": [
    {
     "name": "stdout",
     "output_type": "stream",
     "text": [
      "Fitting 5 folds for each of 168 candidates, totalling 840 fits\n"
     ]
    }
   ],
   "source": [
    "%%time\n",
    "\n",
    "# define the model\n",
    "model = RandomForestClassifier()\n",
    "\n",
    "\n",
    "# CREATE    the parameter grid\n",
    "param_grid = {\n",
    "    'n_estimators':[50,100,200,300,400,500],\n",
    "    'max_depth':[4,5,6,7,8,9,10],\n",
    "    'criterion':['gini','entropy'],\n",
    "    'bootstrap':[True, False]\n",
    "}\n",
    "\n",
    "# set up the grid\n",
    "grid = GridSearchCV(\n",
    "    estimator=model,\n",
    "    param_grid=param_grid,\n",
    "    cv=5,\n",
    "    scoring='accuracy',\n",
    "    verbose=1,\n",
    "    n_jobs=1\n",
    ")\n",
    "\n",
    "# fit the model\n",
    "grid.fit(X,y)\n",
    "\n",
    "# print the parameters\n",
    "print(f\"Best parameter: {grid.best_params}\")"
   ]
  }
 ],
 "metadata": {
  "kernelspec": {
   "display_name": "Python 3",
   "language": "python",
   "name": "python3"
  },
  "language_info": {
   "codemirror_mode": {
    "name": "ipython",
    "version": 3
   },
   "file_extension": ".py",
   "mimetype": "text/x-python",
   "name": "python",
   "nbconvert_exporter": "python",
   "pygments_lexer": "ipython3",
   "version": "3.11.5"
  }
 },
 "nbformat": 4,
 "nbformat_minor": 2
}
