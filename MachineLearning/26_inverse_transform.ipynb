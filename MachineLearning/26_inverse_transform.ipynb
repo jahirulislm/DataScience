{
 "cells": [
  {
   "cell_type": "markdown",
   "metadata": {},
   "source": [
    "# Inverse encodin/ Inverse transform /Decoding categorical variables\n",
    "\n",
    "Inverse encoding is the process of converting the encoded data back to its original form. This is done by using the `inverse_transform()` method. This method is available for the following encoders:\n",
    "\n",
    "- `LabelEncoder`\n",
    "- `OrdinalEncoder`\n",
    "- `OneHotEncoder`"
   ]
  },
  {
   "cell_type": "code",
   "execution_count": null,
   "metadata": {},
   "outputs": [],
   "source": [
    "# import libraries\n",
    "import pandas as pd\n",
    "import numpy as numpy\n",
    "import matplotlib.pyplot as plt\n",
    "import seaborn as sns\n",
    "from sklearn.tree import DecisionTreeClassifier\n",
    "from sklearn.model_selection import train_test_split\n",
    "from sklearn.preprocessing import LabelEncoder, OneHotEncoder, OrdinalEncoder"
   ]
  },
  {
   "cell_type": "code",
   "execution_count": null,
   "metadata": {},
   "outputs": [],
   "source": [
    "# load the data\n",
    "df = sns.load_dataset('titanic')\n",
    "df.head()"
   ]
  },
  {
   "cell_type": "code",
   "execution_count": null,
   "metadata": {},
   "outputs": [],
   "source": [
    "# impute missing values for age, embarked, embark_town and deck\n",
    "df['age'].fillna(df['age'].median(), inplace=True)\n",
    "df['embarked'].fillna(df['embarked'].mode()[0], inplace=True)\n",
    "df['embark_town'].fillna(df['embark_town'].mode()[0], inplace=True)\n",
    "# drop deck column\n",
    "df.drop('deck', axis=1, inplace=True)"
   ]
  },
  {
   "cell_type": "code",
   "execution_count": null,
   "metadata": {},
   "outputs": [],
   "source": [
    "# encode all categorical variables and object variables\n",
    "\n",
    "le_sex = LabelEncoder()\n",
    "le_embarked = LabelEncoder()\n",
    "le_class = LabelEncoder()\n",
    "le_who = LabelEncoder()\n",
    "le_embark_town = LabelEncoder()\n",
    "le_alive = LabelEncoder()\n",
    "\n",
    "df['sex'] = le_sex.fit_transform(df['sex'])\n",
    "df['embarked'] = le_embarked.fit_transform(df['embarked'])\n",
    "df['class'] = le_class.fit_transform(df['class'])\n",
    "df['who'] = le_who.fit_transform(df['who'])\n",
    "df['embark_town'] = le_embark_town.fit_transform(df['embark_town'])\n",
    "df['alive'] = le_alive.fit_transform(df['alive'])\n",
    "df.head()"
   ]
  },
  {
   "cell_type": "code",
   "execution_count": null,
   "metadata": {},
   "outputs": [],
   "source": [
    "# inverse transform the data\n",
    "\n",
    "df['sex'] = le_sex.inverse_transform(df['sex'])\n",
    "df['embarked'] = le_embarked.inverse_transform(df['embarked'])\n",
    "df['class'] = le_class.inverse_transform(df['class'])\n",
    "df['who'] = le_who.inverse_transform(df['who'])\n",
    "df['embark_town'] = le_embark_town.inverse_transform(df['embark_town'])\n",
    "df['alive'] = le_alive.inverse_transform(df['alive'])\n",
    "df.head()"
   ]
  },
  {
   "cell_type": "markdown",
   "metadata": {},
   "source": [
    "# one hot encoding"
   ]
  },
  {
   "cell_type": "code",
   "execution_count": null,
   "metadata": {},
   "outputs": [],
   "source": [
    "from sklearn.preprocessing import OneHotEncoder\n",
    "\n",
    "df = sns.load_dataset('titanic')\n",
    "\n",
    "cat_columns = ['sex', 'embarked']\n",
    "\n",
    "encoder = OneHotEncoder(sparse=False)\n",
    "encoded_df = pd.DataFrame(encoder.fit_transform(df[cat_columns]))\n",
    "\n",
    "# concatenate the dataframes \n",
    "df = pd.concat([df, encoded_df], axis=1)\n",
    "# df.drop(cat_columns, axis=1, inplace=True)\n",
    "df.head()"
   ]
  },
  {
   "cell_type": "code",
   "execution_count": null,
   "metadata": {},
   "outputs": [],
   "source": [
    "# We need to extract the original categories for each encoded column\n",
    "original_categories = {col: encoder.categories_[i] for i, col in enumerate(cat_columns)}\n",
    "# Manual creation of feature names\n",
    "feature_names = []\n",
    "for i, col in enumerate(cat_columns):\n",
    "    for category in encoder.categories_[i]:\n",
    "        feature_names.append(f\"{col}_{category}\")\n",
    "\n",
    "encoded_df = pd.DataFrame(encoded_df, columns=feature_names)\n",
    "\n",
    "df.head()\n"
   ]
  },
  {
   "cell_type": "markdown",
   "metadata": {},
   "source": [
    "# Assignment: Use Ordinal Encoder with Inverse Transform Method."
   ]
  }
 ],
 "metadata": {
  "kernelspec": {
   "display_name": "tf_env",
   "language": "python",
   "name": "python3"
  },
  "language_info": {
   "codemirror_mode": {
    "name": "ipython",
    "version": 3
   },
   "file_extension": ".py",
   "mimetype": "text/x-python",
   "name": "python",
   "nbconvert_exporter": "python",
   "pygments_lexer": "ipython3",
   "version": "3.11.5"
  }
 },
 "nbformat": 4,
 "nbformat_minor": 2
}
